{
 "cells": [
  {
   "cell_type": "code",
   "execution_count": 279,
   "metadata": {},
   "outputs": [
    {
     "name": "stdout",
     "output_type": "stream",
     "text": [
      "Cuda available: True\n"
     ]
    }
   ],
   "source": [
    "from miditok import CPWord, MuMIDI\n",
    "from miditok.utils import get_midi_programs\n",
    "from miditoolkit import MidiFile\n",
    "import numpy as np\n",
    "import torch\n",
    "print(f\"Cuda available: {torch.cuda.is_available()}\")"
   ]
  },
  {
   "cell_type": "code",
   "execution_count": 280,
   "metadata": {},
   "outputs": [],
   "source": [
    "BAR_TOKEN = (1, 2, 1, 1, 1)\n",
    "PIANO_INSTRUMENTS = ((0, False), (0, False))\n",
    "DEVICE = \"cuda\" if torch.cuda.is_available() else \"cpu\"\n",
    "\n",
    "def split_track_by_bars(track):\n",
    "    out = []\n",
    "    last_bar_index = 0\n",
    "    for index, token in enumerate(track):\n",
    "        if tuple(token) == BAR_TOKEN and index != 0:\n",
    "            out.append(track[last_bar_index:index])\n",
    "            last_bar_index = index\n",
    "    out.append(track[last_bar_index:])\n",
    "    return out\n",
    "\n",
    "def split_song_by_bars(song):\n",
    "    right = split_track_by_bars(song[0])\n",
    "    left = split_track_by_bars(song[1])\n",
    "    assert len(right) == len(left)\n",
    "    return right, left\n",
    "\n",
    "def save_measures_as_midi(right, left, tokenizer, path):\n",
    "    right_flat = [token for measure in right for token in measure[:]]\n",
    "    left_flat = [token for measure in left for token in measure[:]]\n",
    "    midi = tokenizer([right_flat, left_flat], PIANO_INSTRUMENTS)\n",
    "    midi.dump(path)\n",
    "\n",
    "def batchify_song(measures, batch_size, max_measure_length):\n",
    "    right, left = measures\n",
    "    assert len(right) == len(left)\n",
    "\n",
    "    measure_data = []\n",
    "    for measure in range(len(right)):\n",
    "        if len(right[measure]) > max_measure_length: print(f\"Max measure length of {max_measure_length} exceeded in right hand on measure {measure}\")\n",
    "        right_data = right[measure][:max_measure_length]\n",
    "        while len(right_data) < max_measure_length:\n",
    "            right_data.append([0, 0, 0, 0, 0])\n",
    "\n",
    "        if len(left[measure]) > max_measure_length: print(f\"Max measure length of {max_measure_length} exceeded in left hand on measure {measure}\")\n",
    "        left_data = left[measure][:max_measure_length]\n",
    "        while len(left_data) < max_measure_length:\n",
    "            left_data.append([0, 0, 0, 0, 0])\n",
    "\n",
    "        measure_data.append([right + left for right, left in zip(right_data, left_data)])\n",
    "\n",
    "    batches = []\n",
    "    this_batch = []\n",
    "    for measure in measure_data:\n",
    "        this_batch.append(measure)\n",
    "        if len(this_batch) >= batch_size:\n",
    "            batches.append(this_batch)\n",
    "            this_batch = []\n",
    "\n",
    "    if len(batches) == 0:\n",
    "        batches.append(this_batch)\n",
    "\n",
    "    return torch.Tensor(batches).to(DEVICE)\n",
    "        "
   ]
  },
  {
   "cell_type": "code",
   "execution_count": 281,
   "metadata": {},
   "outputs": [],
   "source": [
    "midi = MidiFile('Feliz_Navidad_easy_piano.mid')\n",
    "tokenizer = CPWord()"
   ]
  },
  {
   "cell_type": "code",
   "execution_count": 282,
   "metadata": {},
   "outputs": [],
   "source": [
    "right, left  = split_song_by_bars(tokenizer(midi))"
   ]
  },
  {
   "cell_type": "code",
   "execution_count": 283,
   "metadata": {},
   "outputs": [],
   "source": [
    "save_measures_as_midi(right, left, tokenizer, \"test.mid\")"
   ]
  },
  {
   "cell_type": "code",
   "execution_count": 284,
   "metadata": {},
   "outputs": [
    {
     "data": {
      "text/plain": [
       "torch.Size([3, 10, 32, 10])"
      ]
     },
     "execution_count": 284,
     "metadata": {},
     "output_type": "execute_result"
    }
   ],
   "source": [
    "batchify_song((right, left), 10, 32).shape"
   ]
  },
  {
   "cell_type": "code",
   "execution_count": null,
   "metadata": {},
   "outputs": [],
   "source": []
  }
 ],
 "metadata": {
  "kernelspec": {
   "display_name": "music_gpt",
   "language": "python",
   "name": "python3"
  },
  "language_info": {
   "codemirror_mode": {
    "name": "ipython",
    "version": 3
   },
   "file_extension": ".py",
   "mimetype": "text/x-python",
   "name": "python",
   "nbconvert_exporter": "python",
   "pygments_lexer": "ipython3",
   "version": "3.10.8"
  },
  "orig_nbformat": 4,
  "vscode": {
   "interpreter": {
    "hash": "13ab8dde286edc8947226e0bd208b8beab43ffdab1677bb6218ff97d28e3f420"
   }
  }
 },
 "nbformat": 4,
 "nbformat_minor": 2
}
